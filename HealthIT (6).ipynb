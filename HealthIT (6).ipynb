{
 "cells": [
  {
   "cell_type": "markdown",
   "id": "1ebbe25b",
   "metadata": {},
   "source": [
    "# Importing Necessary Libraries"
   ]
  },
  {
   "cell_type": "code",
   "execution_count": 1,
   "id": "190b4a20",
   "metadata": {},
   "outputs": [],
   "source": [
    "import pandas as pd\n",
    "df = pd.read_csv('compiled.csv')"
   ]
  },
  {
   "cell_type": "markdown",
   "id": "43da3a1c",
   "metadata": {},
   "source": [
    "# Removing Empty Cells"
   ]
  },
  {
   "cell_type": "code",
   "execution_count": 2,
   "id": "8e1db36e",
   "metadata": {},
   "outputs": [
    {
     "data": {
      "text/html": [
       "<div>\n",
       "<style scoped>\n",
       "    .dataframe tbody tr th:only-of-type {\n",
       "        vertical-align: middle;\n",
       "    }\n",
       "\n",
       "    .dataframe tbody tr th {\n",
       "        vertical-align: top;\n",
       "    }\n",
       "\n",
       "    .dataframe thead th {\n",
       "        text-align: right;\n",
       "    }\n",
       "</style>\n",
       "<table border=\"1\" class=\"dataframe\">\n",
       "  <thead>\n",
       "    <tr style=\"text-align: right;\">\n",
       "      <th></th>\n",
       "      <th>Date</th>\n",
       "      <th>Time</th>\n",
       "      <th>Name</th>\n",
       "      <th>Message</th>\n",
       "    </tr>\n",
       "  </thead>\n",
       "  <tbody>\n",
       "    <tr>\n",
       "      <th>3</th>\n",
       "      <td>09/12/2019</td>\n",
       "      <td>1:38 pm</td>\n",
       "      <td>Joshua Mbai</td>\n",
       "      <td>Dear Team Wajir, please feel free to reach out...</td>\n",
       "    </tr>\n",
       "    <tr>\n",
       "      <th>4</th>\n",
       "      <td>09/12/2019</td>\n",
       "      <td>1:39 pm</td>\n",
       "      <td>Joshua Mbai</td>\n",
       "      <td>Please share your account.</td>\n",
       "    </tr>\n",
       "    <tr>\n",
       "      <th>5</th>\n",
       "      <td>12/12/2019</td>\n",
       "      <td>7:09 pm</td>\n",
       "      <td>+254 725 351772</td>\n",
       "      <td>Forgot pasward kindly assist.sahara.wajir nort...</td>\n",
       "    </tr>\n",
       "    <tr>\n",
       "      <th>6</th>\n",
       "      <td>12/12/2019</td>\n",
       "      <td>7:22 pm</td>\n",
       "      <td>Lilian</td>\n",
       "      <td>You deleted this message</td>\n",
       "    </tr>\n",
       "    <tr>\n",
       "      <th>7</th>\n",
       "      <td>12/12/2019</td>\n",
       "      <td>7:33 pm</td>\n",
       "      <td>Lilian</td>\n",
       "      <td>Your Username is :smohamed, Reset done use def...</td>\n",
       "    </tr>\n",
       "    <tr>\n",
       "      <th>...</th>\n",
       "      <td>...</td>\n",
       "      <td>...</td>\n",
       "      <td>...</td>\n",
       "      <td>...</td>\n",
       "    </tr>\n",
       "    <tr>\n",
       "      <th>4936</th>\n",
       "      <td>05/12/2022</td>\n",
       "      <td>9:02 am</td>\n",
       "      <td>+254 722 251705</td>\n",
       "      <td>Lilian Osero, please advise.</td>\n",
       "    </tr>\n",
       "    <tr>\n",
       "      <th>4937</th>\n",
       "      <td>05/12/2022</td>\n",
       "      <td>9:04 am</td>\n",
       "      <td>Violet Mastamet DCS</td>\n",
       "      <td>open in the browser childprotection.go.ke And ...</td>\n",
       "    </tr>\n",
       "    <tr>\n",
       "      <th>4938</th>\n",
       "      <td>03/01/2023</td>\n",
       "      <td>11:57 am</td>\n",
       "      <td>+254 722 251705</td>\n",
       "      <td>Hi Lillian Osero, I have two pending cases in ...</td>\n",
       "    </tr>\n",
       "    <tr>\n",
       "      <th>4940</th>\n",
       "      <td>09/02/2023</td>\n",
       "      <td>4:07 pm</td>\n",
       "      <td>Violet Mastamet DCS</td>\n",
       "      <td>Good afternoon colleagues, first and foremost,...</td>\n",
       "    </tr>\n",
       "    <tr>\n",
       "      <th>4941</th>\n",
       "      <td>09/02/2023</td>\n",
       "      <td>4:08 pm</td>\n",
       "      <td>Violet Mastamet DCS</td>\n",
       "      <td>&lt;Media omitted&gt; Bungoma.jpg\\n</td>\n",
       "    </tr>\n",
       "  </tbody>\n",
       "</table>\n",
       "<p>4429 rows × 4 columns</p>\n",
       "</div>"
      ],
      "text/plain": [
       "            Date       Time                 Name  \\\n",
       "3     09/12/2019   1:38 pm           Joshua Mbai   \n",
       "4     09/12/2019   1:39 pm           Joshua Mbai   \n",
       "5     12/12/2019   7:09 pm       +254 725 351772   \n",
       "6     12/12/2019   7:22 pm                Lilian   \n",
       "7     12/12/2019   7:33 pm                Lilian   \n",
       "...          ...        ...                  ...   \n",
       "4936  05/12/2022   9:02 am       +254 722 251705   \n",
       "4937  05/12/2022   9:04 am   Violet Mastamet DCS   \n",
       "4938  03/01/2023  11:57 am       +254 722 251705   \n",
       "4940  09/02/2023   4:07 pm   Violet Mastamet DCS   \n",
       "4941  09/02/2023   4:08 pm   Violet Mastamet DCS   \n",
       "\n",
       "                                                Message  \n",
       "3     Dear Team Wajir, please feel free to reach out...  \n",
       "4                            Please share your account.  \n",
       "5     Forgot pasward kindly assist.sahara.wajir nort...  \n",
       "6                              You deleted this message  \n",
       "7     Your Username is :smohamed, Reset done use def...  \n",
       "...                                                 ...  \n",
       "4936                       Lilian Osero, please advise.  \n",
       "4937  open in the browser childprotection.go.ke And ...  \n",
       "4938  Hi Lillian Osero, I have two pending cases in ...  \n",
       "4940  Good afternoon colleagues, first and foremost,...  \n",
       "4941                      <Media omitted> Bungoma.jpg\\n  \n",
       "\n",
       "[4429 rows x 4 columns]"
      ]
     },
     "execution_count": 2,
     "metadata": {},
     "output_type": "execute_result"
    }
   ],
   "source": [
    "df.dropna(inplace = True)\n",
    "df"
   ]
  },
  {
   "cell_type": "markdown",
   "id": "0c9e4518",
   "metadata": {},
   "source": [
    "# Removing rows with Irrelevant Data"
   ]
  },
  {
   "cell_type": "markdown",
   "id": "542ed74e",
   "metadata": {},
   "source": [
    "## e.g < Media Ommited>"
   ]
  },
  {
   "cell_type": "code",
   "execution_count": 3,
   "id": "f1597fc4",
   "metadata": {},
   "outputs": [
    {
     "data": {
      "text/html": [
       "<div>\n",
       "<style scoped>\n",
       "    .dataframe tbody tr th:only-of-type {\n",
       "        vertical-align: middle;\n",
       "    }\n",
       "\n",
       "    .dataframe tbody tr th {\n",
       "        vertical-align: top;\n",
       "    }\n",
       "\n",
       "    .dataframe thead th {\n",
       "        text-align: right;\n",
       "    }\n",
       "</style>\n",
       "<table border=\"1\" class=\"dataframe\">\n",
       "  <thead>\n",
       "    <tr style=\"text-align: right;\">\n",
       "      <th></th>\n",
       "      <th>Date</th>\n",
       "      <th>Time</th>\n",
       "      <th>Name</th>\n",
       "      <th>Message</th>\n",
       "    </tr>\n",
       "  </thead>\n",
       "  <tbody>\n",
       "    <tr>\n",
       "      <th>3</th>\n",
       "      <td>09/12/2019</td>\n",
       "      <td>1:38 pm</td>\n",
       "      <td>Joshua Mbai</td>\n",
       "      <td>Dear Team Wajir, please feel free to reach out...</td>\n",
       "    </tr>\n",
       "    <tr>\n",
       "      <th>4</th>\n",
       "      <td>09/12/2019</td>\n",
       "      <td>1:39 pm</td>\n",
       "      <td>Joshua Mbai</td>\n",
       "      <td>Please share your account.</td>\n",
       "    </tr>\n",
       "    <tr>\n",
       "      <th>5</th>\n",
       "      <td>12/12/2019</td>\n",
       "      <td>7:09 pm</td>\n",
       "      <td>+254 725 351772</td>\n",
       "      <td>Forgot pasward kindly assist.sahara.wajir nort...</td>\n",
       "    </tr>\n",
       "    <tr>\n",
       "      <th>6</th>\n",
       "      <td>12/12/2019</td>\n",
       "      <td>7:22 pm</td>\n",
       "      <td>Lilian</td>\n",
       "      <td>You deleted this message</td>\n",
       "    </tr>\n",
       "    <tr>\n",
       "      <th>7</th>\n",
       "      <td>12/12/2019</td>\n",
       "      <td>7:33 pm</td>\n",
       "      <td>Lilian</td>\n",
       "      <td>Your Username is :smohamed, Reset done use def...</td>\n",
       "    </tr>\n",
       "    <tr>\n",
       "      <th>...</th>\n",
       "      <td>...</td>\n",
       "      <td>...</td>\n",
       "      <td>...</td>\n",
       "      <td>...</td>\n",
       "    </tr>\n",
       "    <tr>\n",
       "      <th>4936</th>\n",
       "      <td>05/12/2022</td>\n",
       "      <td>9:02 am</td>\n",
       "      <td>+254 722 251705</td>\n",
       "      <td>Lilian Osero, please advise.</td>\n",
       "    </tr>\n",
       "    <tr>\n",
       "      <th>4937</th>\n",
       "      <td>05/12/2022</td>\n",
       "      <td>9:04 am</td>\n",
       "      <td>Violet Mastamet DCS</td>\n",
       "      <td>open in the browser childprotection.go.ke And ...</td>\n",
       "    </tr>\n",
       "    <tr>\n",
       "      <th>4938</th>\n",
       "      <td>03/01/2023</td>\n",
       "      <td>11:57 am</td>\n",
       "      <td>+254 722 251705</td>\n",
       "      <td>Hi Lillian Osero, I have two pending cases in ...</td>\n",
       "    </tr>\n",
       "    <tr>\n",
       "      <th>4940</th>\n",
       "      <td>09/02/2023</td>\n",
       "      <td>4:07 pm</td>\n",
       "      <td>Violet Mastamet DCS</td>\n",
       "      <td>Good afternoon colleagues, first and foremost,...</td>\n",
       "    </tr>\n",
       "    <tr>\n",
       "      <th>4941</th>\n",
       "      <td>09/02/2023</td>\n",
       "      <td>4:08 pm</td>\n",
       "      <td>Violet Mastamet DCS</td>\n",
       "      <td>&lt;Media omitted&gt; Bungoma.jpg\\n</td>\n",
       "    </tr>\n",
       "  </tbody>\n",
       "</table>\n",
       "<p>4184 rows × 4 columns</p>\n",
       "</div>"
      ],
      "text/plain": [
       "            Date       Time                 Name  \\\n",
       "3     09/12/2019   1:38 pm           Joshua Mbai   \n",
       "4     09/12/2019   1:39 pm           Joshua Mbai   \n",
       "5     12/12/2019   7:09 pm       +254 725 351772   \n",
       "6     12/12/2019   7:22 pm                Lilian   \n",
       "7     12/12/2019   7:33 pm                Lilian   \n",
       "...          ...        ...                  ...   \n",
       "4936  05/12/2022   9:02 am       +254 722 251705   \n",
       "4937  05/12/2022   9:04 am   Violet Mastamet DCS   \n",
       "4938  03/01/2023  11:57 am       +254 722 251705   \n",
       "4940  09/02/2023   4:07 pm   Violet Mastamet DCS   \n",
       "4941  09/02/2023   4:08 pm   Violet Mastamet DCS   \n",
       "\n",
       "                                                Message  \n",
       "3     Dear Team Wajir, please feel free to reach out...  \n",
       "4                            Please share your account.  \n",
       "5     Forgot pasward kindly assist.sahara.wajir nort...  \n",
       "6                              You deleted this message  \n",
       "7     Your Username is :smohamed, Reset done use def...  \n",
       "...                                                 ...  \n",
       "4936                       Lilian Osero, please advise.  \n",
       "4937  open in the browser childprotection.go.ke And ...  \n",
       "4938  Hi Lillian Osero, I have two pending cases in ...  \n",
       "4940  Good afternoon colleagues, first and foremost,...  \n",
       "4941                      <Media omitted> Bungoma.jpg\\n  \n",
       "\n",
       "[4184 rows x 4 columns]"
      ]
     },
     "execution_count": 3,
     "metadata": {},
     "output_type": "execute_result"
    }
   ],
   "source": [
    "df.drop(df[df['Message'] == '<Media omitted>'].index,inplace= True)\n",
    "df.drop(df[df['Message'] == 'This message was deleted'].index,inplace= True)\n",
    "df.dropna(inplace = True)\n",
    "df"
   ]
  },
  {
   "cell_type": "markdown",
   "id": "b46fe2e2",
   "metadata": {},
   "source": [
    "# Removing Duplicates"
   ]
  },
  {
   "cell_type": "code",
   "execution_count": 4,
   "id": "779c08c4",
   "metadata": {},
   "outputs": [
    {
     "data": {
      "text/html": [
       "<div>\n",
       "<style scoped>\n",
       "    .dataframe tbody tr th:only-of-type {\n",
       "        vertical-align: middle;\n",
       "    }\n",
       "\n",
       "    .dataframe tbody tr th {\n",
       "        vertical-align: top;\n",
       "    }\n",
       "\n",
       "    .dataframe thead th {\n",
       "        text-align: right;\n",
       "    }\n",
       "</style>\n",
       "<table border=\"1\" class=\"dataframe\">\n",
       "  <thead>\n",
       "    <tr style=\"text-align: right;\">\n",
       "      <th></th>\n",
       "      <th>Date</th>\n",
       "      <th>Time</th>\n",
       "      <th>Name</th>\n",
       "      <th>Message</th>\n",
       "    </tr>\n",
       "  </thead>\n",
       "  <tbody>\n",
       "    <tr>\n",
       "      <th>3</th>\n",
       "      <td>09/12/2019</td>\n",
       "      <td>1:38 pm</td>\n",
       "      <td>Joshua Mbai</td>\n",
       "      <td>Dear Team Wajir, please feel free to reach out...</td>\n",
       "    </tr>\n",
       "    <tr>\n",
       "      <th>4</th>\n",
       "      <td>09/12/2019</td>\n",
       "      <td>1:39 pm</td>\n",
       "      <td>Joshua Mbai</td>\n",
       "      <td>Please share your account.</td>\n",
       "    </tr>\n",
       "    <tr>\n",
       "      <th>5</th>\n",
       "      <td>12/12/2019</td>\n",
       "      <td>7:09 pm</td>\n",
       "      <td>+254 725 351772</td>\n",
       "      <td>Forgot pasward kindly assist.sahara.wajir nort...</td>\n",
       "    </tr>\n",
       "    <tr>\n",
       "      <th>6</th>\n",
       "      <td>12/12/2019</td>\n",
       "      <td>7:22 pm</td>\n",
       "      <td>Lilian</td>\n",
       "      <td>You deleted this message</td>\n",
       "    </tr>\n",
       "    <tr>\n",
       "      <th>7</th>\n",
       "      <td>12/12/2019</td>\n",
       "      <td>7:33 pm</td>\n",
       "      <td>Lilian</td>\n",
       "      <td>Your Username is :smohamed, Reset done use def...</td>\n",
       "    </tr>\n",
       "    <tr>\n",
       "      <th>...</th>\n",
       "      <td>...</td>\n",
       "      <td>...</td>\n",
       "      <td>...</td>\n",
       "      <td>...</td>\n",
       "    </tr>\n",
       "    <tr>\n",
       "      <th>4936</th>\n",
       "      <td>05/12/2022</td>\n",
       "      <td>9:02 am</td>\n",
       "      <td>+254 722 251705</td>\n",
       "      <td>Lilian Osero, please advise.</td>\n",
       "    </tr>\n",
       "    <tr>\n",
       "      <th>4937</th>\n",
       "      <td>05/12/2022</td>\n",
       "      <td>9:04 am</td>\n",
       "      <td>Violet Mastamet DCS</td>\n",
       "      <td>open in the browser childprotection.go.ke And ...</td>\n",
       "    </tr>\n",
       "    <tr>\n",
       "      <th>4938</th>\n",
       "      <td>03/01/2023</td>\n",
       "      <td>11:57 am</td>\n",
       "      <td>+254 722 251705</td>\n",
       "      <td>Hi Lillian Osero, I have two pending cases in ...</td>\n",
       "    </tr>\n",
       "    <tr>\n",
       "      <th>4940</th>\n",
       "      <td>09/02/2023</td>\n",
       "      <td>4:07 pm</td>\n",
       "      <td>Violet Mastamet DCS</td>\n",
       "      <td>Good afternoon colleagues, first and foremost,...</td>\n",
       "    </tr>\n",
       "    <tr>\n",
       "      <th>4941</th>\n",
       "      <td>09/02/2023</td>\n",
       "      <td>4:08 pm</td>\n",
       "      <td>Violet Mastamet DCS</td>\n",
       "      <td>&lt;Media omitted&gt; Bungoma.jpg\\n</td>\n",
       "    </tr>\n",
       "  </tbody>\n",
       "</table>\n",
       "<p>4142 rows × 4 columns</p>\n",
       "</div>"
      ],
      "text/plain": [
       "            Date       Time                 Name  \\\n",
       "3     09/12/2019   1:38 pm           Joshua Mbai   \n",
       "4     09/12/2019   1:39 pm           Joshua Mbai   \n",
       "5     12/12/2019   7:09 pm       +254 725 351772   \n",
       "6     12/12/2019   7:22 pm                Lilian   \n",
       "7     12/12/2019   7:33 pm                Lilian   \n",
       "...          ...        ...                  ...   \n",
       "4936  05/12/2022   9:02 am       +254 722 251705   \n",
       "4937  05/12/2022   9:04 am   Violet Mastamet DCS   \n",
       "4938  03/01/2023  11:57 am       +254 722 251705   \n",
       "4940  09/02/2023   4:07 pm   Violet Mastamet DCS   \n",
       "4941  09/02/2023   4:08 pm   Violet Mastamet DCS   \n",
       "\n",
       "                                                Message  \n",
       "3     Dear Team Wajir, please feel free to reach out...  \n",
       "4                            Please share your account.  \n",
       "5     Forgot pasward kindly assist.sahara.wajir nort...  \n",
       "6                              You deleted this message  \n",
       "7     Your Username is :smohamed, Reset done use def...  \n",
       "...                                                 ...  \n",
       "4936                       Lilian Osero, please advise.  \n",
       "4937  open in the browser childprotection.go.ke And ...  \n",
       "4938  Hi Lillian Osero, I have two pending cases in ...  \n",
       "4940  Good afternoon colleagues, first and foremost,...  \n",
       "4941                      <Media omitted> Bungoma.jpg\\n  \n",
       "\n",
       "[4142 rows x 4 columns]"
      ]
     },
     "execution_count": 4,
     "metadata": {},
     "output_type": "execute_result"
    }
   ],
   "source": [
    "df.drop_duplicates(subset=None, keep='first', inplace=True, ignore_index=False)\n",
    "df"
   ]
  },
  {
   "cell_type": "code",
   "execution_count": 5,
   "id": "34740e9a",
   "metadata": {},
   "outputs": [],
   "source": [
    "df.drop(df[df['Message'] == 'This message was deleted'].index,inplace= True)\n",
    "df.drop(df[df['Message'] == 'You deleted this message'].index,inplace= True)"
   ]
  },
  {
   "cell_type": "code",
   "execution_count": 6,
   "id": "4a5434d5",
   "metadata": {},
   "outputs": [
    {
     "data": {
      "text/html": [
       "<div>\n",
       "<style scoped>\n",
       "    .dataframe tbody tr th:only-of-type {\n",
       "        vertical-align: middle;\n",
       "    }\n",
       "\n",
       "    .dataframe tbody tr th {\n",
       "        vertical-align: top;\n",
       "    }\n",
       "\n",
       "    .dataframe thead th {\n",
       "        text-align: right;\n",
       "    }\n",
       "</style>\n",
       "<table border=\"1\" class=\"dataframe\">\n",
       "  <thead>\n",
       "    <tr style=\"text-align: right;\">\n",
       "      <th></th>\n",
       "      <th>Date</th>\n",
       "      <th>Time</th>\n",
       "      <th>Name</th>\n",
       "      <th>Message</th>\n",
       "    </tr>\n",
       "  </thead>\n",
       "  <tbody>\n",
       "    <tr>\n",
       "      <th>3</th>\n",
       "      <td>09/12/2019</td>\n",
       "      <td>1:38 pm</td>\n",
       "      <td>Joshua Mbai</td>\n",
       "      <td>Dear Team Wajir, please feel free to reach out...</td>\n",
       "    </tr>\n",
       "    <tr>\n",
       "      <th>4</th>\n",
       "      <td>09/12/2019</td>\n",
       "      <td>1:39 pm</td>\n",
       "      <td>Joshua Mbai</td>\n",
       "      <td>Please share your account.</td>\n",
       "    </tr>\n",
       "    <tr>\n",
       "      <th>5</th>\n",
       "      <td>12/12/2019</td>\n",
       "      <td>7:09 pm</td>\n",
       "      <td>+254 725 351772</td>\n",
       "      <td>Forgot pasward kindly assist.sahara.wajir nort...</td>\n",
       "    </tr>\n",
       "    <tr>\n",
       "      <th>7</th>\n",
       "      <td>12/12/2019</td>\n",
       "      <td>7:33 pm</td>\n",
       "      <td>Lilian</td>\n",
       "      <td>Your Username is :smohamed, Reset done use def...</td>\n",
       "    </tr>\n",
       "    <tr>\n",
       "      <th>8</th>\n",
       "      <td>09/01/2020</td>\n",
       "      <td>9:10 am</td>\n",
       "      <td>Joshua Mbai</td>\n",
       "      <td>Happy New Year Team CPIMS, please find attache...</td>\n",
       "    </tr>\n",
       "    <tr>\n",
       "      <th>...</th>\n",
       "      <td>...</td>\n",
       "      <td>...</td>\n",
       "      <td>...</td>\n",
       "      <td>...</td>\n",
       "    </tr>\n",
       "    <tr>\n",
       "      <th>4936</th>\n",
       "      <td>05/12/2022</td>\n",
       "      <td>9:02 am</td>\n",
       "      <td>+254 722 251705</td>\n",
       "      <td>Lilian Osero, please advise.</td>\n",
       "    </tr>\n",
       "    <tr>\n",
       "      <th>4937</th>\n",
       "      <td>05/12/2022</td>\n",
       "      <td>9:04 am</td>\n",
       "      <td>Violet Mastamet DCS</td>\n",
       "      <td>open in the browser childprotection.go.ke And ...</td>\n",
       "    </tr>\n",
       "    <tr>\n",
       "      <th>4938</th>\n",
       "      <td>03/01/2023</td>\n",
       "      <td>11:57 am</td>\n",
       "      <td>+254 722 251705</td>\n",
       "      <td>Hi Lillian Osero, I have two pending cases in ...</td>\n",
       "    </tr>\n",
       "    <tr>\n",
       "      <th>4940</th>\n",
       "      <td>09/02/2023</td>\n",
       "      <td>4:07 pm</td>\n",
       "      <td>Violet Mastamet DCS</td>\n",
       "      <td>Good afternoon colleagues, first and foremost,...</td>\n",
       "    </tr>\n",
       "    <tr>\n",
       "      <th>4941</th>\n",
       "      <td>09/02/2023</td>\n",
       "      <td>4:08 pm</td>\n",
       "      <td>Violet Mastamet DCS</td>\n",
       "      <td>&lt;Media omitted&gt; Bungoma.jpg\\n</td>\n",
       "    </tr>\n",
       "  </tbody>\n",
       "</table>\n",
       "<p>4131 rows × 4 columns</p>\n",
       "</div>"
      ],
      "text/plain": [
       "            Date       Time                 Name  \\\n",
       "3     09/12/2019   1:38 pm           Joshua Mbai   \n",
       "4     09/12/2019   1:39 pm           Joshua Mbai   \n",
       "5     12/12/2019   7:09 pm       +254 725 351772   \n",
       "7     12/12/2019   7:33 pm                Lilian   \n",
       "8     09/01/2020   9:10 am           Joshua Mbai   \n",
       "...          ...        ...                  ...   \n",
       "4936  05/12/2022   9:02 am       +254 722 251705   \n",
       "4937  05/12/2022   9:04 am   Violet Mastamet DCS   \n",
       "4938  03/01/2023  11:57 am       +254 722 251705   \n",
       "4940  09/02/2023   4:07 pm   Violet Mastamet DCS   \n",
       "4941  09/02/2023   4:08 pm   Violet Mastamet DCS   \n",
       "\n",
       "                                                Message  \n",
       "3     Dear Team Wajir, please feel free to reach out...  \n",
       "4                            Please share your account.  \n",
       "5     Forgot pasward kindly assist.sahara.wajir nort...  \n",
       "7     Your Username is :smohamed, Reset done use def...  \n",
       "8     Happy New Year Team CPIMS, please find attache...  \n",
       "...                                                 ...  \n",
       "4936                       Lilian Osero, please advise.  \n",
       "4937  open in the browser childprotection.go.ke And ...  \n",
       "4938  Hi Lillian Osero, I have two pending cases in ...  \n",
       "4940  Good afternoon colleagues, first and foremost,...  \n",
       "4941                      <Media omitted> Bungoma.jpg\\n  \n",
       "\n",
       "[4131 rows x 4 columns]"
      ]
     },
     "execution_count": 6,
     "metadata": {},
     "output_type": "execute_result"
    }
   ],
   "source": [
    "df"
   ]
  },
  {
   "cell_type": "markdown",
   "id": "bb69defe",
   "metadata": {},
   "source": [
    "# Removing the 'Date' , 'Time' and 'Name'columns"
   ]
  },
  {
   "cell_type": "code",
   "execution_count": 7,
   "id": "d664ed6d",
   "metadata": {},
   "outputs": [
    {
     "data": {
      "text/html": [
       "<div>\n",
       "<style scoped>\n",
       "    .dataframe tbody tr th:only-of-type {\n",
       "        vertical-align: middle;\n",
       "    }\n",
       "\n",
       "    .dataframe tbody tr th {\n",
       "        vertical-align: top;\n",
       "    }\n",
       "\n",
       "    .dataframe thead th {\n",
       "        text-align: right;\n",
       "    }\n",
       "</style>\n",
       "<table border=\"1\" class=\"dataframe\">\n",
       "  <thead>\n",
       "    <tr style=\"text-align: right;\">\n",
       "      <th></th>\n",
       "      <th>Message</th>\n",
       "    </tr>\n",
       "  </thead>\n",
       "  <tbody>\n",
       "    <tr>\n",
       "      <th>3</th>\n",
       "      <td>Dear Team Wajir, please feel free to reach out...</td>\n",
       "    </tr>\n",
       "    <tr>\n",
       "      <th>4</th>\n",
       "      <td>Please share your account.</td>\n",
       "    </tr>\n",
       "    <tr>\n",
       "      <th>5</th>\n",
       "      <td>Forgot pasward kindly assist.sahara.wajir nort...</td>\n",
       "    </tr>\n",
       "    <tr>\n",
       "      <th>7</th>\n",
       "      <td>Your Username is :smohamed, Reset done use def...</td>\n",
       "    </tr>\n",
       "    <tr>\n",
       "      <th>8</th>\n",
       "      <td>Happy New Year Team CPIMS, please find attache...</td>\n",
       "    </tr>\n",
       "    <tr>\n",
       "      <th>...</th>\n",
       "      <td>...</td>\n",
       "    </tr>\n",
       "    <tr>\n",
       "      <th>4936</th>\n",
       "      <td>Lilian Osero, please advise.</td>\n",
       "    </tr>\n",
       "    <tr>\n",
       "      <th>4937</th>\n",
       "      <td>open in the browser childprotection.go.ke And ...</td>\n",
       "    </tr>\n",
       "    <tr>\n",
       "      <th>4938</th>\n",
       "      <td>Hi Lillian Osero, I have two pending cases in ...</td>\n",
       "    </tr>\n",
       "    <tr>\n",
       "      <th>4940</th>\n",
       "      <td>Good afternoon colleagues, first and foremost,...</td>\n",
       "    </tr>\n",
       "    <tr>\n",
       "      <th>4941</th>\n",
       "      <td>&lt;Media omitted&gt; Bungoma.jpg\\n</td>\n",
       "    </tr>\n",
       "  </tbody>\n",
       "</table>\n",
       "<p>4131 rows × 1 columns</p>\n",
       "</div>"
      ],
      "text/plain": [
       "                                                Message\n",
       "3     Dear Team Wajir, please feel free to reach out...\n",
       "4                            Please share your account.\n",
       "5     Forgot pasward kindly assist.sahara.wajir nort...\n",
       "7     Your Username is :smohamed, Reset done use def...\n",
       "8     Happy New Year Team CPIMS, please find attache...\n",
       "...                                                 ...\n",
       "4936                       Lilian Osero, please advise.\n",
       "4937  open in the browser childprotection.go.ke And ...\n",
       "4938  Hi Lillian Osero, I have two pending cases in ...\n",
       "4940  Good afternoon colleagues, first and foremost,...\n",
       "4941                      <Media omitted> Bungoma.jpg\\n\n",
       "\n",
       "[4131 rows x 1 columns]"
      ]
     },
     "execution_count": 7,
     "metadata": {},
     "output_type": "execute_result"
    }
   ],
   "source": [
    "df.drop(['Date'],axis = 1,inplace = True)\n",
    "df.drop(['Time'],axis = 1,inplace = True)\n",
    "df.drop(['Name'],axis = 1,inplace = True)\n",
    "df.dropna(inplace = True)\n",
    "df"
   ]
  },
  {
   "cell_type": "code",
   "execution_count": 8,
   "id": "fe32f656",
   "metadata": {},
   "outputs": [
    {
     "data": {
      "text/plain": [
       "'3 dear team wajir, please feel free to reach out...\\n4 please share your account.\\n5 forgot pasward kindly assist.sahara.wajir nort...\\n7 your username is :smohamed, reset done use def...\\n8 happy new year team cpims, please find attache...\\n...\\n4936 lilian osero, please advise.\\n4937 open in the browser childprotection.go.ke and ...\\n4938 hi lillian osero, i have two pending cases in ...\\n4940 good afternoon colleagues, first and foremost,...\\n4941 <media omitted> bungoma.jpg\\nname: message, length: 4131, dtype: object'"
      ]
     },
     "execution_count": 8,
     "metadata": {},
     "output_type": "execute_result"
    }
   ],
   "source": [
    "from cleantext import clean\n",
    "df = clean(df['Message'], no_emoji=True)\n",
    "df\n",
    "#content = str(df)\n",
    "#print(content, file=open('.txt', 'w'))"
   ]
  },
  {
   "cell_type": "code",
   "execution_count": 9,
   "id": "1c500ce1",
   "metadata": {},
   "outputs": [
    {
     "ename": "AttributeError",
     "evalue": "'str' object has no attribute 'read'",
     "output_type": "error",
     "traceback": [
      "\u001b[1;31m---------------------------------------------------------------------------\u001b[0m",
      "\u001b[1;31mAttributeError\u001b[0m                            Traceback (most recent call last)",
      "Cell \u001b[1;32mIn [9], line 2\u001b[0m\n\u001b[0;32m      1\u001b[0m f \u001b[38;5;241m=\u001b[39m \u001b[38;5;28mopen\u001b[39m(\u001b[38;5;124m\"\u001b[39m\u001b[38;5;124mcompiled_msg.txt\u001b[39m\u001b[38;5;124m\"\u001b[39m, \u001b[38;5;124m\"\u001b[39m\u001b[38;5;124mr\u001b[39m\u001b[38;5;124m\"\u001b[39m,encoding\u001b[38;5;241m=\u001b[39m\u001b[38;5;124m'\u001b[39m\u001b[38;5;124mutf-8\u001b[39m\u001b[38;5;124m'\u001b[39m)\n\u001b[1;32m----> 2\u001b[0m \u001b[38;5;28mprint\u001b[39m(\u001b[43mdf\u001b[49m\u001b[38;5;241;43m.\u001b[39;49m\u001b[43mread\u001b[49m())\n",
      "\u001b[1;31mAttributeError\u001b[0m: 'str' object has no attribute 'read'"
     ]
    }
   ],
   "source": [
    "#f = open(\"compiled_msg.txt\", \"r\",encoding='utf-8')\n",
    "#print(df.read())"
   ]
  },
  {
   "cell_type": "code",
   "execution_count": 10,
   "id": "7dc77029",
   "metadata": {},
   "outputs": [],
   "source": [
    "import numpy as np\n",
    "import nltk\n",
    "import string\n",
    "import random"
   ]
  },
  {
   "cell_type": "code",
   "execution_count": 11,
   "id": "2a6c15ff",
   "metadata": {
    "scrolled": true
   },
   "outputs": [
    {
     "name": "stderr",
     "output_type": "stream",
     "text": [
      "[nltk_data] Error loading tweet: Package 'tweet' not found in index\n",
      "[nltk_data] Downloading package wordnet to\n",
      "[nltk_data]     C:\\Users\\user\\AppData\\Roaming\\nltk_data...\n",
      "[nltk_data]   Package wordnet is already up-to-date!\n"
     ]
    }
   ],
   "source": [
    "f = open('virt1.txt', 'r',errors = 'ignore')\n",
    "raw_doc = f.read()\n",
    "raw_doc = raw_doc.lower()\n",
    "nltk.download('tweet')\n",
    "nltk.download('wordnet')\n",
    "sent_tokens = nltk.sent_tokenize(raw_doc)\n",
    "word_tokens = nltk.word_tokenize(raw_doc)"
   ]
  },
  {
   "cell_type": "code",
   "execution_count": 12,
   "id": "7415f7c1",
   "metadata": {},
   "outputs": [
    {
     "data": {
      "text/plain": [
       "['21/06/2017, 6:47â€¯pm - messages and calls are end-to-end encrypted.',\n",
       " 'no one outside of this chat, not even whatsapp, can read or listen to them.']"
      ]
     },
     "execution_count": 12,
     "metadata": {},
     "output_type": "execute_result"
    }
   ],
   "source": [
    "sent_tokens[:2]"
   ]
  },
  {
   "cell_type": "code",
   "execution_count": 13,
   "id": "d76d671e",
   "metadata": {},
   "outputs": [
    {
     "data": {
      "text/plain": [
       "['21/06/2017', ',']"
      ]
     },
     "execution_count": 13,
     "metadata": {},
     "output_type": "execute_result"
    }
   ],
   "source": [
    "word_tokens[:2]"
   ]
  },
  {
   "cell_type": "markdown",
   "id": "3e6ebcc5",
   "metadata": {},
   "source": [
    "# Text Preprocessing"
   ]
  },
  {
   "cell_type": "code",
   "execution_count": 16,
   "id": "540ea156",
   "metadata": {},
   "outputs": [],
   "source": [
    "lemmer = nltk.stem.WordNetLemmatizer()\n",
    "#Wordnet is a semantically-oriented dictionary of English included in NLTK.\n",
    "def LemtTokens(tokens):\n",
    "    return [lemmer.lemmatize(token) for token in tokens]\n",
    "remove_punct_dict = dict((ord(punct), None) for punct in string.punctuation)\n",
    "def LemNormalize(text):\n",
    "    return Lemtokens(nltk.word_tokenize(text.lower().trnaslate(remove_punct_dict)))"
   ]
  },
  {
   "cell_type": "markdown",
   "id": "d144ac3a",
   "metadata": {},
   "source": [
    "# Defining The Greeting Function"
   ]
  },
  {
   "cell_type": "code",
   "execution_count": 17,
   "id": "cb34975b",
   "metadata": {},
   "outputs": [],
   "source": [
    "GREET_INPUTS = (\"hello\",\"hi\",\"greetings\",\"hey\",\"sasa\")\n",
    "GREAT_RESPONSES = [\"hi\", \"hello\",\"sasa\",\"hi there\",\"hey\"]\n",
    "def greet(sentence):\n",
    "    \n",
    "    for word in sentence.split():\n",
    "        if word.lower() in GREET_INPUTS:\n",
    "            return random.choice(GREET_RESPONSES)"
   ]
  },
  {
   "cell_type": "markdown",
   "id": "fafad027",
   "metadata": {},
   "source": [
    "# Response Generation "
   ]
  },
  {
   "cell_type": "code",
   "execution_count": null,
   "id": "25b6e5bc",
   "metadata": {},
   "outputs": [],
   "source": [
    "from sklearn.feature_extraction.text import TfidfVectorizer\n",
    "from sklearn.metrics.pariwise import cosine_similar"
   ]
  },
  {
   "cell_type": "code",
   "execution_count": 65,
   "id": "457998ae",
   "metadata": {},
   "outputs": [
    {
     "name": "stdout",
     "output_type": "stream",
     "text": [
      "<_io.textiowrapper name='compiled_msg.txt' mode='r' encoding='utf-8'>\n"
     ]
    }
   ],
   "source": [
    "from cleantext import clean \n",
    "print(clean(f, no_emoji=True))"
   ]
  },
  {
   "cell_type": "code",
   "execution_count": 116,
   "id": "45956bdc",
   "metadata": {},
   "outputs": [
    {
     "ename": "AttributeError",
     "evalue": "'_io.TextIOWrapper' object has no attribute 'split'",
     "output_type": "error",
     "traceback": [
      "\u001b[1;31m---------------------------------------------------------------------------\u001b[0m",
      "\u001b[1;31mAttributeError\u001b[0m                            Traceback (most recent call last)",
      "Cell \u001b[1;32mIn [116], line 3\u001b[0m\n\u001b[0;32m      1\u001b[0m \u001b[38;5;28;01mimport\u001b[39;00m \u001b[38;5;21;01mre\u001b[39;00m\n\u001b[1;32m----> 3\u001b[0m \u001b[38;5;28;01mfor\u001b[39;00m sentence \u001b[38;5;129;01min\u001b[39;00m \u001b[43mf\u001b[49m\u001b[38;5;241;43m.\u001b[39;49m\u001b[43msplit\u001b[49m(\u001b[38;5;124m\"\u001b[39m\u001b[38;5;124m.\u001b[39m\u001b[38;5;124m\"\u001b[39m):\n\u001b[0;32m      4\u001b[0m     \u001b[38;5;28;01mif\u001b[39;00m \u001b[38;5;129;01mnot\u001b[39;00m (re\u001b[38;5;241m.\u001b[39msearch(\u001b[38;5;124m\"\u001b[39m\u001b[38;5;124m<Media omitted>|IMG\u001b[39m\u001b[38;5;124m\"\u001b[39m, sentence, flags\u001b[38;5;241m=\u001b[39mre\u001b[38;5;241m.\u001b[39mIGNORECASE)):\n\u001b[0;32m      5\u001b[0m         cleaned_str \u001b[38;5;241m=\u001b[39m cleaned_str \u001b[38;5;241m+\u001b[39m sentence\n",
      "\u001b[1;31mAttributeError\u001b[0m: '_io.TextIOWrapper' object has no attribute 'split'"
     ]
    }
   ],
   "source": [
    "import re\n",
    " \n",
    "for sentence in f.split(\".\"):\n",
    "    if not (re.search(\"<Media omitted>|IMG\", sentence, flags=re.IGNORECASE)):\n",
    "        cleaned_str = cleaned_str + sentence\n",
    " \n",
    "print(cleaned_str)"
   ]
  },
  {
   "cell_type": "code",
   "execution_count": null,
   "id": "3f47b36a",
   "metadata": {},
   "outputs": [],
   "source": []
  }
 ],
 "metadata": {
  "kernelspec": {
   "display_name": "Python 3 (ipykernel)",
   "language": "python",
   "name": "python3"
  },
  "language_info": {
   "codemirror_mode": {
    "name": "ipython",
    "version": 3
   },
   "file_extension": ".py",
   "mimetype": "text/x-python",
   "name": "python",
   "nbconvert_exporter": "python",
   "pygments_lexer": "ipython3",
   "version": "3.10.7"
  }
 },
 "nbformat": 4,
 "nbformat_minor": 5
}
